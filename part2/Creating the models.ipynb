{
 "cells": [
  {
   "cell_type": "code",
   "execution_count": 65,
   "metadata": {},
   "outputs": [],
   "source": [
    "#imports\n",
    "from mpl_toolkits.mplot3d import Axes3D\n",
    "import matplotlib.pyplot as plt # creating visualizations\n",
    "import numpy as np # basic math and random numbers\n",
    "import pandas as pd\n",
    "from sklearn.preprocessing import StandardScaler\n",
    "import torch # package for building functions with learnable parameters\n",
    "import torch.nn as nn # prebuilt functions specific to neural networks\n",
    "import torch.nn.functional as F\n",
    "from torch.autograd import Variable # storing data while learning\n",
    "from torch.distributions import constraints, multivariate_normal, Normal\n",
    "from torch.distributions.distribution import Distribution\n",
    "from torch.utils.data import DataLoader, Dataset\n"
   ]
  },
  {
   "cell_type": "markdown",
   "metadata": {},
   "source": [
    "## First loading the recorded data"
   ]
  },
  {
   "cell_type": "code",
   "execution_count": 66,
   "metadata": {},
   "outputs": [
    {
     "name": "stdout",
     "output_type": "stream",
     "text": [
      "Number of samples: 160\n",
      "Number of samples after removing duplicates: 72\n"
     ]
    }
   ],
   "source": [
    "class CoordinateDataset(Dataset):\n",
    "    \n",
    "    def __init__(self, file_name, with_scaler=False):\n",
    "        file_out = pd.read_csv(file_name, names=['ball_x', 'ball_y', 'positionLeftShoulderRoll', 'positionLeftShoulderPitch'])\n",
    "        print(f\"Number of samples: {len(file_out)}\")\n",
    "        file_out.drop_duplicates(subset=['ball_x','ball_y'], inplace=True)\n",
    "        print(f\"Number of samples after removing duplicates: {len(file_out)}\")\n",
    "        x = file_out[['ball_x','ball_y']].values\n",
    "        y = file_out[['positionLeftShoulderRoll', 'positionLeftShoulderPitch']].values\n",
    "        x_train = x\n",
    "        if with_scaler:\n",
    "            sc = StandardScaler()\n",
    "            x_train = sc.fit_transform(x_train)\n",
    "        y_train = y\n",
    "        x_tensor = torch.tensor(x_train, dtype=torch.float32)\n",
    "        y_tensor = torch.tensor(y_train, dtype=torch.float32)\n",
    "        self.x_train = Variable(x_tensor)\n",
    "        self.y_train = Variable(y_tensor, requires_grad=False)\n",
    "        \n",
    "    def __len__(self):\n",
    "        return len(self.y_train)\n",
    "    \n",
    "    def __getitem__(self, idx):\n",
    "        return self.x_train[idx], self.y_train[idx]\n",
    "        \n",
    "dataset = CoordinateDataset('../controllers/tutorial2_tracker/data_points.csv')"
   ]
  },
  {
   "cell_type": "markdown",
   "metadata": {},
   "source": [
    "## Then training the MDN"
   ]
  },
  {
   "cell_type": "code",
   "execution_count": 67,
   "metadata": {},
   "outputs": [],
   "source": [
    "class MDN(nn.Module):\n",
    "    def __init__(self, n_input, n_hidden, n_output, n_gaussians):\n",
    "        super(MDN, self).__init__()\n",
    "        self.fc1 = nn.Linear(n_input, n_hidden)\n",
    "        \n",
    "        #IMPORTANT notes\n",
    "        # - Use softmax activation for pi  (they need to add up to 1)\n",
    "        # - Use exponential linear unit for deviations (they should not be negative or close to zero)\n",
    "        self.pis = nn.Linear(n_hidden, n_gaussians) # Coefficents\n",
    "        self.mus = nn.Linear(n_hidden, n_gaussians * n_output) # Means\n",
    "        self.sigmas = nn.Linear(n_hidden, n_gaussians) # Variances / Deviations\n",
    "        \n",
    "\n",
    "    def forward(self, x):\n",
    "        #Program the forward pass\n",
    "        x = torch.tanh(self.fc1(x))\n",
    "        pi = F.softmax(self.pis(x), -1)\n",
    "        sigma = torch.exp(self.sigmas(x))\n",
    "        mu = self.mus(x)\n",
    "        \n",
    "        return pi, sigma, mu"
   ]
  },
  {
   "cell_type": "code",
   "execution_count": 68,
   "metadata": {},
   "outputs": [],
   "source": [
    "oneDivSqrtTwoPI = 1.0 / np.sqrt(2.0*np.pi)\n",
    "def gaussian_distribution(y, mu, sigma):\n",
    "    result = (y - mu) * torch.reciprocal(sigma)\n",
    "    result = -0.5 * (result * result)\n",
    "    return (torch.exp(result) * torch.reciprocal(sigma)) * oneDivSqrtTwoPI\n",
    "\n",
    "def loss_fn(pi, sigma, mu, y):\n",
    "    N, K = pi.shape\n",
    "    _, KT = mu.shape\n",
    "    NO = int(KT / K)\n",
    "    losses = Variable(torch.zeros(N, K))\n",
    "    for i in range(K): \n",
    "        window_mu = mu[:, i*NO:(i+1)*NO]\n",
    "        sigma_expanded = sigma[:, i].unsqueeze(-1).repeat(1, NO)\n",
    "        likelihood_z_x = -torch.log(gaussian_distribution(y, window_mu, sigma_expanded))\n",
    "        prior_z = pi[:, i]\n",
    "        losses += torch.mean(prior_z.unsqueeze(-1).repeat(1, NO) * likelihood_z_x)\n",
    "    loss = torch.mean(losses)\n",
    "    return loss"
   ]
  },
  {
   "cell_type": "code",
   "execution_count": 91,
   "metadata": {},
   "outputs": [],
   "source": [
    "NGAUSSIANS = 2\n",
    "EPOCHS = 20000\n",
    "model = MDN(n_input=2, n_hidden=6, n_output=2, n_gaussians=NGAUSSIANS)\n",
    "optimizer = torch.optim.Adam(model.parameters()) # Select optimizer\n",
    "mdn_losses = []\n",
    "\n",
    "def train_mdn(network, x_train, y_train):\n",
    "    for epoch in range(EPOCHS):\n",
    "        pi_variable, sigma_variable, mu_variable = network(x_train)\n",
    "        loss = loss_fn(pi_variable, sigma_variable, mu_variable, y_train)\n",
    "        optimizer.zero_grad()\n",
    "        loss.backward()\n",
    "        optimizer.step()\n",
    "\n",
    "        mdn_losses.append(loss.item())\n",
    "        if epoch % 500 == 0:\n",
    "            print(epoch, loss.item())"
   ]
  },
  {
   "cell_type": "code",
   "execution_count": 92,
   "metadata": {
    "scrolled": true
   },
   "outputs": [
    {
     "name": "stdout",
     "output_type": "stream",
     "text": [
      "0 1.5211702585220337\n",
      "500 -0.9802567958831787\n",
      "1000 -1.2203925848007202\n",
      "1500 -1.2681642770767212\n",
      "2000 -1.2858904600143433\n",
      "2500 -1.2960104942321777\n",
      "3000 -1.3393011093139648\n",
      "3500 -1.3558306694030762\n",
      "4000 -1.3672205209732056\n",
      "4500 -1.3789538145065308\n",
      "5000 -1.3855133056640625\n",
      "5500 -1.3897892236709595\n",
      "6000 -1.390875220298767\n",
      "6500 -1.3926212787628174\n",
      "7000 -1.3866510391235352\n",
      "7500 -1.395081877708435\n",
      "8000 -1.393164038658142\n",
      "8500 -1.3970208168029785\n",
      "9000 -1.3917993307113647\n",
      "9500 -1.398776650428772\n",
      "10000 -1.3960555791854858\n",
      "10500 -1.4005800485610962\n",
      "11000 -1.390285849571228\n",
      "11500 -1.3995537757873535\n",
      "12000 -1.4034513235092163\n",
      "12500 -1.393249273300171\n",
      "13000 -1.405346393585205\n",
      "13500 -1.4079469442367554\n",
      "14000 -1.4079716205596924\n",
      "14500 -1.4041227102279663\n",
      "15000 -1.4127103090286255\n",
      "15500 -1.411867618560791\n",
      "16000 -1.4219452142715454\n",
      "16500 -1.4077191352844238\n",
      "17000 -1.4454835653305054\n",
      "17500 -1.4482792615890503\n",
      "18000 -1.382703185081482\n",
      "18500 -1.4558974504470825\n",
      "19000 -1.4567584991455078\n",
      "19500 -1.4535479545593262\n"
     ]
    }
   ],
   "source": [
    "train_mdn(model, dataset.x_train, dataset.y_train)"
   ]
  },
  {
   "cell_type": "code",
   "execution_count": 95,
   "metadata": {},
   "outputs": [
    {
     "data": {
      "image/png": "[encoded data removed]",
      "text/plain": [
       "<Figure size 432x288 with 1 Axes>"
      ]
     },
     "metadata": {
      "needs_background": "light"
     },
     "output_type": "display_data"
    }
   ],
   "source": [
    "plt.plot(np.exp(mdn_losses), label=\"MDN (e^loss)\")\n",
    "plt.legend()\n",
    "plt.show()"
   ]
  },
  {
   "cell_type": "code",
   "execution_count": 71,
   "metadata": {},
   "outputs": [],
   "source": [
    "torch.save(model.state_dict(), f'mdn_model_nao_{int(EPOCHS/1000)}kepochs_{NGAUSSIANS}gaussians')"
   ]
  },
  {
   "cell_type": "code",
   "execution_count": 75,
   "metadata": {},
   "outputs": [],
   "source": [
    "class FFN(nn.Module):\n",
    "    \n",
    "    def __init__(self, n_input, n_hidden, n_output):\n",
    "        super(FFN, self).__init__()\n",
    "        self.fc1 = nn.Linear(n_input, n_hidden)\n",
    "        self.fc2 = nn.Linear(n_hidden, n_output)\n",
    "        \n",
    "    def forward(self, x):\n",
    "        x = torch.tanh(self.fc1(x))\n",
    "        return self.fc2(x)\n",
    "        "
   ]
  },
  {
   "cell_type": "code",
   "execution_count": 76,
   "metadata": {},
   "outputs": [],
   "source": [
    "model_ffn = FFN(n_input=2, n_hidden=6, n_output=2)"
   ]
  },
  {
   "cell_type": "code",
   "execution_count": 81,
   "metadata": {},
   "outputs": [],
   "source": [
    "ffn_losses = []"
   ]
  },
  {
   "cell_type": "code",
   "execution_count": 82,
   "metadata": {},
   "outputs": [],
   "source": [
    "def train_ffn(network, x_train, y_train, optimizer, criterion):\n",
    "    for epoch in range(EPOCHS):\n",
    "        prediction = network(x_train)\n",
    "        loss = criterion(prediction, y_train)\n",
    "        optimizer.zero_grad()\n",
    "        loss.backward()\n",
    "        optimizer.step()\n",
    "\n",
    "        ffn_losses.append(loss.item())\n",
    "        if epoch % 500 == 0:\n",
    "            print(epoch, loss.item())"
   ]
  },
  {
   "cell_type": "code",
   "execution_count": 83,
   "metadata": {},
   "outputs": [
    {
     "name": "stdout",
     "output_type": "stream",
     "text": [
      "0 0.003739059902727604\n",
      "500 0.0036486226599663496\n",
      "1000 0.00467313127592206\n",
      "1500 0.004157911986112595\n",
      "2000 0.0037215091288089752\n",
      "2500 0.0036104831378906965\n",
      "3000 0.0038539404049515724\n",
      "3500 0.0036484403535723686\n",
      "4000 0.0036622558254748583\n",
      "4500 0.003615338820964098\n",
      "5000 0.003644881071522832\n",
      "5500 0.0035995212383568287\n",
      "6000 0.0036093927919864655\n",
      "6500 0.003696027211844921\n",
      "7000 0.004125307314097881\n",
      "7500 0.0035987612791359425\n",
      "8000 0.0036592951510101557\n",
      "8500 0.003968596458435059\n",
      "9000 0.0037071406841278076\n",
      "9500 0.003950983285903931\n",
      "10000 0.0036661699414253235\n",
      "10500 0.0036334183532744646\n",
      "11000 0.0036315275356173515\n",
      "11500 0.003763132728636265\n",
      "12000 0.004455239046365023\n",
      "12500 0.004871994722634554\n",
      "13000 0.0035859914496541023\n",
      "13500 0.003637096146121621\n",
      "14000 0.00364700797945261\n",
      "14500 0.003942431882023811\n",
      "15000 0.003658604808151722\n",
      "15500 0.0037003341130912304\n",
      "16000 0.004048293922096491\n",
      "16500 0.0036154421977698803\n",
      "17000 0.0037260022945702076\n",
      "17500 0.0037047804798930883\n",
      "18000 0.004037302918732166\n",
      "18500 0.003961893264204264\n",
      "19000 0.0037650300655514\n",
      "19500 0.0037794385571032763\n"
     ]
    }
   ],
   "source": [
    "optimizer = torch.optim.Adam(model_ffn.parameters(), lr=0.01)\n",
    "criterion = torch.nn.MSELoss() \n",
    "\n",
    "train_ffn(model_ffn, dataset.x_train, dataset.y_train, optimizer, criterion)"
   ]
  },
  {
   "cell_type": "code",
   "execution_count": 84,
   "metadata": {},
   "outputs": [],
   "source": [
    "torch.save(model_ffn.state_dict(), f'ffn_model_nao_{int(EPOCHS/1000)}kepochs')"
   ]
  },
  {
   "cell_type": "code",
   "execution_count": 90,
   "metadata": {},
   "outputs": [
    {
     "data": {
      "image/png": "[encoded data removed]",
      "text/plain": [
       "<Figure size 432x288 with 1 Axes>"
      ]
     },
     "metadata": {
      "needs_background": "light"
     },
     "output_type": "display_data"
    }
   ],
   "source": [
    "plt.plot(ffn_losses, label=\"FFN\")\n",
    "plt.legend()\n",
    "plt.show()"
   ]
  },
  {
   "cell_type": "code",
   "execution_count": null,
   "metadata": {},
   "outputs": [],
   "source": []
  }
 ],
 "metadata": {
  "kernelspec": {
   "display_name": "Python 3",
   "language": "python",
   "name": "python3"
  },
  "language_info": {
   "codemirror_mode": {
    "name": "ipython",
    "version": 3
   },
   "file_extension": ".py",
   "mimetype": "text/x-python",
   "name": "python",
   "nbconvert_exporter": "python",
   "pygments_lexer": "ipython3",
   "version": "3.7.4"
  }
 },
 "nbformat": 4,
 "nbformat_minor": 2
}
